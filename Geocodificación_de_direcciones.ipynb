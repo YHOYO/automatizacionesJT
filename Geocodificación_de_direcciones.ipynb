{
  "nbformat": 4,
  "nbformat_minor": 0,
  "metadata": {
    "colab": {
      "provenance": [],
      "authorship_tag": "ABX9TyNtQyvduSbkRmmiMvSBlRVC",
      "include_colab_link": true
    },
    "kernelspec": {
      "name": "python3",
      "display_name": "Python 3"
    },
    "language_info": {
      "name": "python"
    }
  },
  "cells": [
    {
      "cell_type": "markdown",
      "metadata": {
        "id": "view-in-github",
        "colab_type": "text"
      },
      "source": [
        "<a href=\"https://colab.research.google.com/github/YHOYO/automatizacionesJT/blob/main/Geocodificaci%C3%B3n_de_direcciones.ipynb\" target=\"_parent\"><img src=\"https://colab.research.google.com/assets/colab-badge.svg\" alt=\"Open In Colab\"/></a>"
      ]
    },
    {
      "cell_type": "code",
      "source": [
        "!pip install selenium\n",
        "!apt-get update\n",
        "!apt-get install -y chromium-chromedriver\n"
      ],
      "metadata": {
        "id": "hk9HxLMfHLlx"
      },
      "execution_count": null,
      "outputs": []
    },
    {
      "cell_type": "code",
      "source": [
        "# usuraio y clave\n",
        "username = \"\"\n",
        "password = \"\"\n",
        "\n",
        "direcciones_str = \"\"\"DG 18 BIS 16A 70\n",
        "KR 11C ESTE 1 62\n",
        "CL 20 SUR 11A 5 ESTE\n",
        "\"\"\"\n",
        "direcciones = direcciones_str.splitlines()\n",
        "\n",
        "print(direcciones)  #valida que esten bien."
      ],
      "metadata": {
        "colab": {
          "base_uri": "https://localhost:8080/"
        },
        "id": "fhJibCWsMtB6",
        "outputId": "662d4d21-2c5e-47c0-c8b6-1f1a052e1376"
      },
      "execution_count": null,
      "outputs": [
        {
          "output_type": "stream",
          "name": "stdout",
          "text": [
            "['DG 18 BIS 16A 70', 'KR 11C ESTE 1 62', 'CL 20 SUR 11A 5 ESTE']\n"
          ]
        }
      ]
    },
    {
      "cell_type": "code",
      "source": [
        "from selenium import webdriver\n",
        "from selenium.webdriver.chrome.options import Options\n",
        "import pickle\n",
        "import time\n",
        "from bs4 import BeautifulSoup\n",
        "\n",
        "tiempo_espera = 0.5\n",
        "\n",
        "# Configura las opciones de Chrome para ejecutar el navegador en modo sin cabeza\n",
        "chrome_options = Options()\n",
        "chrome_options.add_argument('--headless')\n",
        "chrome_options.add_argument('--no-sandbox')\n",
        "chrome_options.add_argument('--disable-dev-shm-usage')\n",
        "\n",
        "# Inicializa el navegador Chrome\n",
        "driver = webdriver.Chrome(options=chrome_options)\n",
        "\n",
        "# Inicia sesión en la página\n",
        "login_url = 'http://sig.saludcapital.gov.co/geocodificardireccion/login.aspx'\n",
        "driver.get(login_url)\n",
        "\n",
        "# Supongamos que has ingresado tu nombre de usuario y contraseña en los campos correspondientes\n",
        "# Asegúrate de inspeccionar los elementos de la página para obtener los identificadores correctos\n",
        "username_field = driver.find_element(\"name\", \"txbUsuario\")\n",
        "password_field = driver.find_element(\"name\", \"txbContrasena\")\n",
        "\n",
        "# Ingresa el nombre de usuario y la contraseña\n",
        "username_field.send_keys(username)\n",
        "password_field.send_keys(password)\n",
        "\n",
        "# Haz clic en el botón de inicio de sesión\n",
        "submit_button = driver.find_element(\"name\", \"btnIngresar\")\n",
        "submit_button.click()\n",
        "\n",
        "# Espera un tiempo para asegurarse de que la página se cargue completamente\n",
        "time.sleep(tiempo_espera)\n",
        "\n",
        "# Navega a la página de geocodificación\n",
        "geocoding_url = 'http://sig.saludcapital.gov.co/geocodificardireccion/geocodificar/geocodificar.aspx'\n",
        "driver.get(geocoding_url)\n",
        "\n",
        "\n",
        "###solo para buscar una direccion de a una\n",
        "##address_field = driver.find_element(\"name\", \"txbDireccion\")\n",
        "##address = \"DG 18 BIS 16A 70\"\n",
        "##address_field.send_keys(address)\n",
        "\n",
        "for direccion in direcciones:\n",
        "  # Ingresa la dirección en el campo correspondiente\n",
        "  address_field = driver.find_element(\"name\", \"txbDireccion\")\n",
        "  address_field.clear()  # Limpia el campo antes de ingresar una nueva dirección\n",
        "  address_field.send_keys(direccion)\n",
        "\n",
        "  # Haz clic en el botón \"Buscar Dirección\"\n",
        "  search_button = driver.find_element(\"name\", \"btnBuscarDireccion\")\n",
        "  search_button.click()\n",
        "\n",
        "  # Espera un tiempo para que se realice la búsqueda y se obtenga la respuesta\n",
        "  time.sleep(tiempo_espera)\n",
        "\n",
        "  # Imprime la respuesta obtenida\n",
        "\n",
        "  # Obtén el código fuente de la página\n",
        "  pagina_html = driver.page_source\n",
        "\n",
        "  # Usa BeautifulSoup para analizar el código HTML\n",
        "  soup = BeautifulSoup(pagina_html, 'html.parser')\n",
        "\n",
        "  # Encuentra el elemento <span> con el id \"lblLocalidad\"\n",
        "  input_direccion = soup.find('input', {'name': 'txbDireccion'})\n",
        "  span_localidad = soup.find('span', id='lblLocalidad')\n",
        "\n",
        "  print(input_direccion['value'], \";\",span_localidad.text)\n",
        "\n",
        "# Cierra el navegador\n",
        "driver.quit()\n"
      ],
      "metadata": {
        "colab": {
          "base_uri": "https://localhost:8080/"
        },
        "id": "xF8PS-LvJVJE",
        "outputId": "b2d54288-2af5-4970-c473-51e5d8cda05b"
      },
      "execution_count": null,
      "outputs": [
        {
          "output_type": "stream",
          "name": "stdout",
          "text": [
            "DG 18 BIS 16A 70 ; 14 - Los Martires\n",
            "KR 11C ESTE 1 62 ; 3 - Santa Fe\n",
            "CL 20 SUR 11A 5 ESTE ; 4 - San Cristóbal\n"
          ]
        }
      ]
    }
  ]
}